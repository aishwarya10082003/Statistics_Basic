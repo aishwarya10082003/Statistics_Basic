{
  "nbformat": 4,
  "nbformat_minor": 0,
  "metadata": {
    "colab": {
      "provenance": []
    },
    "kernelspec": {
      "name": "python3",
      "display_name": "Python 3"
    },
    "language_info": {
      "name": "python"
    }
  },
  "cells": [
    {
      "cell_type": "code",
      "execution_count": 1,
      "metadata": {
        "id": "RtXaaPZlMqJw"
      },
      "outputs": [],
      "source": [
        "# Ques-1:- Explain the different types of data (qualitative and quantitative) and provide examples of each. Discuss nominal, ordinal, interval, and ratio scales.\n",
        "# Ans-1:-\n",
        "\n",
        "# Types of Data:\n",
        "# Qualitative (Categorical): Non-numerical data describing categories or labels.\n",
        "# Examples: Hair color, types of cuisine, gender.\n",
        "\n",
        "# Quantitative: Numerical data representing counts or measurements.\n",
        "#Examples: Height, age, number of students.\n",
        "\n",
        "# Scales of Measurement:\n",
        "# Nominal (Qualitative): Categories with no order.\n",
        "# Example: Colors (red, green, blue).\n",
        "\n",
        "#Ordinal (Qualitative/Quantitative): Ordered categories without equal intervals.\n",
        "# Example: Rankings (first, second, third).\n",
        "\n",
        "# Interval (Quantitative): Equal intervals, no true zero.\n",
        "#Example: Temperature (Celsius/Fahrenheit).\n",
        "\n",
        "# Ratio (Quantitative): Equal intervals with a true zero.\n",
        "# Example: Weight, income."
      ]
    },
    {
      "cell_type": "code",
      "source": [
        "# Ques-2:- . What are the measures of central tendency, and when should you use each? Discuss the mean, median, and mode with examples and situations where each is appropriate.\n",
        "# Ans-2:-\n",
        "# Measures of Central Tendency:\n",
        "\n",
        "# Mean (Average):\n",
        "# - Sum of all values divided by the number of values.\n",
        "# - Use When: Data is continuous and symmetric (no extreme outliers).\n",
        "# - Example: Average test scores in a class.\n",
        "\n",
        "# Median (Middle Value):\n",
        "# - The middle value when data is ordered.\n",
        "# - Use When: Data is skewed or has outliers.\n",
        "# - Example: Median household income in a region.\n",
        "\n",
        "# Mode (Most Frequent Value):\n",
        "# - The value that appears most often.\n",
        "# - Use When: Data is categorical or when identifying the most common value.\n",
        "# - Example: Most popular color of cars in a parking lot."
      ],
      "metadata": {
        "id": "zVabXDy7NkVL"
      },
      "execution_count": 2,
      "outputs": []
    },
    {
      "cell_type": "code",
      "source": [
        "# Ques-3:- Explain the concept of dispersion. How do variance and standard deviation measure the spread of data?\n",
        "# Ans-3:-\n",
        "# Dispersion:\n",
        "# Dispersion refers to the spread or variability of data values in a dataset. It shows how much the data deviates from the central tendency.\n",
        "\n",
        "# Variance:\n",
        "# - Measures the average squared deviations from the mean.\n",
        "# - Interpretation: Larger variance indicates greater spread.\n",
        "\n",
        "# Standard Deviation (SD):\n",
        "# - The square root of variance, representing the average deviation from the mean.\n",
        "# - Interpretation: SD is in the same units as the data, making it easier to understand.\n",
        "\n",
        "# Use Case:\n",
        "# Variance and SD are used to assess consistency or variability in data, such as measuring the reliability of test scores or stock price fluctuations."
      ],
      "metadata": {
        "id": "HEbXh8XyOPH0"
      },
      "execution_count": 3,
      "outputs": []
    },
    {
      "cell_type": "code",
      "source": [
        "# Ques-4:- . What is a box plot, and what can it tell you about the distribution of data?\n",
        "# Ans-4:-\n",
        "# Box Plot:\n",
        "# A box plot (or whisker plot) is a graphical representation of data distribution. It displays the median, quartiles (Q1 and Q3), minimum, maximum, and potential outliers.\n",
        "# What it shows:\n",
        "# - Median (Q2): The middle value of the data.\n",
        "# - Interquartile Range (IQR): The spread between Q1 (25th percentile) and Q3 (75th percentile).\n",
        "# - Outliers: Data points outside 1.5×IQR from Q1 or Q3.\n",
        "# - Symmetry or Skewness: How data is distributed around the median.\n",
        "# Use Case:\n",
        "# Box plots are ideal for comparing distributions across datasets, identifying variability, and spotting outliers."
      ],
      "metadata": {
        "id": "PSAnCFdcOpIe"
      },
      "execution_count": 4,
      "outputs": []
    },
    {
      "cell_type": "code",
      "source": [
        "# Ques-5:-Discuss the role of random sampling in making inferences about populations.\n",
        "# Ans-5:-\n",
        "# Random Sampling:\n",
        "# Random sampling is a technique where every member of a population has an equal chance of being selected. It ensures the sample is representative, reducing bias and allowing valid inferences about the population.\n",
        "\n",
        "# Role in Inference:\n",
        "# - Accuracy: Reflects population characteristics, improving reliability of conclusions.\n",
        "# - Generalizability: Enables results to apply to the entire population.\n",
        "# - Statistical Validity: Facilitates the use of probability to estimate population parameters and calculate margins of error.\n",
        "# Example: Surveying a random group of voters to predict election outcomes."
      ],
      "metadata": {
        "id": "NgxV3akBPCPM"
      },
      "execution_count": 5,
      "outputs": []
    },
    {
      "cell_type": "code",
      "source": [
        "# Ques-6:- Explain the concept of skewness and its types. How does skewness affect the interpretation of data?\n",
        "# Ans-6:-\n",
        "# Skewness:\n",
        "# Skewness measures the asymmetry of a dataset’s distribution. It indicates whether data tails are more extended on one side of the mean.\n",
        "\n",
        "# Types of Skewness:\n",
        "\n",
        "# - Positive Skew (Right-Skewed):\n",
        "# * Tail is longer on the right.\n",
        "# * Mean > Median.\n",
        "# * Example: Income distribution in a population.\n",
        "\n",
        "# - Negative Skew (Left-Skewed):\n",
        "# * Tail is longer on the left.\n",
        "# * Mean < Median.\n",
        "# * Example: Scores on an easy exam.\n",
        "\n",
        "# - Impact on Data Interpretation:\n",
        "# * Skewness affects the choice of central tendency measure (e.g., median for skewed data).\n",
        "# * Influences statistical assumptions, as many analyses assume normality (no skewness).\n",
        "# * Highlights data irregularities, such as outliers."
      ],
      "metadata": {
        "id": "Hj0NCAKBPZV2"
      },
      "execution_count": 6,
      "outputs": []
    },
    {
      "cell_type": "code",
      "source": [
        "# Ques-7:- What is the interquartile range (IQR), and how is it used to detect outliers?\n",
        "# Ans-7:-\n",
        "# Interquartile Range (IQR):\n",
        "# The IQR measures the middle 50% of a dataset. It is the difference between the third quartile (Q3) and the first quartile (Q1):\n",
        "# IQR = Q3 - Q1\n",
        "# Use in Detecting Outliers:\n",
        "# Outliers are values significantly lower or higher than the central range. They are identified using:\n",
        "# - Lower Bound: Q1-1.5*IQR\n",
        "# - Upper Bound: Q3+1.5*IQR\n",
        "# Example:\n",
        "# For a dataset with Q1 = 10 and Q3 = 20\n",
        "# IQR = 20-10 = 10\n",
        "# Outliers lie below: 10-1.5*10 = -5 or above 20+1.5*10 = 35"
      ],
      "metadata": {
        "id": "BhtW3VGTP9ys"
      },
      "execution_count": 7,
      "outputs": []
    },
    {
      "cell_type": "code",
      "source": [
        "# Ques-8:- . Discuss the conditions under which the binomial distribution is used\n",
        "# Ans-8:-\n",
        "# Binomial Distribution:\n",
        "# The binomial distribution is used to model the number of successes in a fixed number of trials, where each trial has two possible outcomes: success or failure.\n",
        "\n",
        "# Conditions for Use:\n",
        "# - Fixed Number of Trials (n): The experiment is repeated a specific number of times.\n",
        "# - Two Outcomes: Each trial results in success (p) or failure (1-p).\n",
        "# - Independent Trials: The outcome of one trial does not affect others.\n",
        "# - Constant Probability (p): The probability of success remains the same across trials.\n",
        "\n",
        "# Example:\n",
        "# Tossing a coin 10 times to count the number of heads (success)."
      ],
      "metadata": {
        "id": "vJgnVUgwRIFy"
      },
      "execution_count": 8,
      "outputs": []
    },
    {
      "cell_type": "code",
      "source": [
        "# Ques-9:-  Explain the properties of the normal distribution and the empirical rule (68-95-99.7 rule).\n",
        "# Ans-9:-\n",
        "# Properties of the Normal Distribution:\n",
        "# - Bell-Shaped Curve: Symmetrical around the mean.\n",
        "# - Mean = Median = Mode: All are located at the center.\n",
        "# - Asymptotic: Tails approach the x-axis but never touch it.\n",
        "# - Defined by Mean (µ) and Standard Deviation (σ): Shape and spread depend on these parameters.\n",
        "# Empirical Rule (68-95-99.7 Rule):\n",
        "# For a normal distribution:\n",
        "# - 68% of data falls within 1σ of the mean (𝜇 ± 1σ)\n",
        "# - 95% of data falls within 2σ of the mean (𝜇 ± 2σ)\n",
        "# - 99.7% of data falls within 3σ of the mean (𝜇 ± 3σ)\n",
        "# Example: If µ = 100 and σ = 10, then:\n",
        "# 68% of values are between 90 and 110.\n",
        "# 95% are between 80 and 120.\n",
        "# 99.7% are between 70 and 130."
      ],
      "metadata": {
        "id": "kLuUr-QNRfn6"
      },
      "execution_count": 9,
      "outputs": []
    },
    {
      "cell_type": "code",
      "source": [
        "# Ques-10:-  Provide a real-life example of a Poisson process and calculate the probability for a specific event.\n",
        "# Ans-10:-\n",
        "# Real-Life Example of a Poisson Process:\n",
        "# A Poisson process models events that occur independently at a constant average rate over time.\n",
        "# Example:\n",
        "# The number of customers arriving at a coffee shop per hour, where the average rate is 5 customers per hour.\n",
        "\n",
        "# Poisson Distribution Formula:\n",
        "# P(X=k)= λ^k . e^−λ / k!\n",
        "\n",
        "# Where:\n",
        "# λ is the average rate (mean number of events),\n",
        "# k is the number of events,\n",
        "# e is Euler’s number (approx. 2.718).\n",
        "\n",
        "# Example Calculation:\n",
        "# Find the probability of exactly 3 customers arriving in one hour, given the average rate 𝜆=5\n",
        "# P(X=3) = 5^3 . e^-k / 3! = 125 * e^-5 / 6 ~0.1404\n",
        "# So, the probability of exactly 3 customers arriving is approximately 0.1404."
      ],
      "metadata": {
        "id": "xnv9_zV4Stfw"
      },
      "execution_count": 10,
      "outputs": []
    },
    {
      "cell_type": "code",
      "source": [
        "# Ques-11:- Explain what a random variable is and differentiate between discrete and continuous random variables.\n",
        "# Ans-11:-\n",
        "# A random variable is a numerical outcome of a random experiment.\n",
        "# - Discrete Random Variable: Takes countable, distinct values (e.g., number of cars passing a checkpoint).\n",
        "# - Continuous Random Variable: Takes any value within a range, including decimals (e.g., height, weight)."
      ],
      "metadata": {
        "id": "-2XgVtSLUJ_0"
      },
      "execution_count": 11,
      "outputs": []
    },
    {
      "cell_type": "code",
      "source": [
        "# Ques-12:- Provide an example dataset, calculate both covariance and correlation, and interpret the results.\n",
        "# Ans-12:-\n",
        "# Example Dataset:\n",
        "# Let's consider two variables: X (hours studied) and Y (test scores).\n",
        "# X (Hours Studied)\t  Y (Test Score)\n",
        "#       1\t                50\n",
        "#       2\t                55\n",
        "#       3\t                60\n",
        "#       4\t                65\n",
        "#       5\t                70\n",
        "# Step 1: Calculate Covariance\n",
        "# Formula for covariance:\n",
        "# Cov(X,Y) = ∑(Xi - μx)(Yi-μy) / n\n",
        "# Where:\n",
        "# μx and 𝜇y are the means of X and Y.\n",
        "# n is the number of data points.\n",
        "\n",
        "# Means:\n",
        "# μx = 1+2+3+4+5 / 5 = 3 , μy = 50+55+60+65+70 / 5 = 60\n",
        "\n",
        "# Covariance Calculation:\n",
        "# Cov(X,Y) = (1-3)(50-60) + (2-3)(55-60) + (3-3)(60-60) + (4-3)(65-60) + (5-3)(70-60) / 5\n",
        "# Cov(X,Y) = 20+5+0+5+20 / 5 = 10\n",
        "\n",
        "# Step 2: Calculate Correlation\n",
        "# Formula for correlation:\n",
        "# r = COV(x,y) / σx . σy\n",
        "# Where σx and σy are the standard deviations of X and Y.\n",
        "\n",
        "# Standard Deviations:\n",
        "# σx = sqrt[(1-3)^2+(2-3)^2+(3-3)^2+(4-3)^2+(5-3^)2] / 5 = sqrt(2)\n",
        "# σx = sqrt[(50-60)^2+(55-60)^2+(60-60)^2+(65-60)^2+(70-60^2)] / 5 = sqrt(50)\n",
        "\n",
        "# Correlation Calculation:\n",
        "# r = 10 / sqrt(2) * sqrt(50) ~ 0.707\n",
        "\n",
        "# Interpretation:\n",
        "# * covariance of 10 indicates a positive relationship between hours studied and test scores.\n",
        "# * Correlation of 0.707 suggests a moderate positive correlation, meaning as hours studied increase, test scores tend to increase as well."
      ],
      "metadata": {
        "id": "g1x8QXVyUpRb"
      },
      "execution_count": null,
      "outputs": []
    }
  ]
}